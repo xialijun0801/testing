{
 "cells": [
  {
   "cell_type": "code",
   "execution_count": 14,
   "metadata": {
    "collapsed": true
   },
   "outputs": [],
   "source": [
    "from __future__ import print_function"
   ]
  },
  {
   "cell_type": "code",
   "execution_count": 21,
   "metadata": {
    "collapsed": false,
    "scrolled": false
   },
   "outputs": [],
   "source": [
    "import matplotlib\n",
    "matplotlib.use('Agg')\n",
    "\n",
    "import matplotlib.pyplot as plt\n",
    "\n",
    "import pylab\n",
    "\n",
    "x = range(-10, 11)\n",
    "y = []\n",
    "\n",
    "a = 2\n",
    "b = 3\n",
    "c = 10\n",
    "\n",
    "for xi in x :\n",
    "    y.append(a * xi **2 + b * xi + c)\n",
    "\n",
    "plt.plot(x, y)\n",
    "\n",
    "grid()\n",
    "\n",
    "xlabel('$x$')\n",
    "ylabel('$y$')\n",
    "\n",
    "title('my parabola')\n",
    "\n",
    "plt.savefig('/tmp/test.png')"
   ]
  }
 ],
 "metadata": {
  "kernelspec": {
   "display_name": "Python 2",
   "language": "python",
   "name": "python2"
  },
  "language_info": {
   "codemirror_mode": {
    "name": "ipython",
    "version": 2
   },
   "file_extension": ".py",
   "mimetype": "text/x-python",
   "name": "python",
   "nbconvert_exporter": "python",
   "pygments_lexer": "ipython2",
   "version": "2.7.6"
  }
 },
 "nbformat": 4,
 "nbformat_minor": 0
}
